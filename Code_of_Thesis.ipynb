{
  "nbformat": 4,
  "nbformat_minor": 0,
  "metadata": {
    "colab": {
      "provenance": [],
      "mount_file_id": "1LWAK9U-2GpzRyYKqIKZ4qdgdPCM5e2q7",
      "authorship_tag": "ABX9TyOD41KL/2GCNrQf4aR4WMAS",
      "include_colab_link": true
    },
    "kernelspec": {
      "name": "python3",
      "display_name": "Python 3"
    },
    "language_info": {
      "name": "python"
    },
    "accelerator": "GPU",
    "gpuClass": "standard"
  },
  "cells": [
    {
      "cell_type": "markdown",
      "metadata": {
        "id": "view-in-github",
        "colab_type": "text"
      },
      "source": [
        "<a href=\"https://colab.research.google.com/github/mostafapiran/m/blob/master/Code_of_Thesis.ipynb\" target=\"_parent\"><img src=\"https://colab.research.google.com/assets/colab-badge.svg\" alt=\"Open In Colab\"/></a>"
      ]
    },
    {
      "cell_type": "code",
      "execution_count": 1,
      "metadata": {
        "id": "PyL1kvEKPD7e"
      },
      "outputs": [],
      "source": [
        "import keras\n",
        "from keras import layers\n",
        "from keras import models\n",
        "from keras.models import Sequential\n",
        "from keras.layers import Dense, Dropout, Activation\n",
        "import numpy as np\n",
        "import matplotlib.pyplot as plt\n",
        "\n",
        "from scipy import io"
      ]
    },
    {
      "cell_type": "code",
      "source": [
        "# total size= N=690+S=690+R=690\n",
        "# 2class=1380  3class=2070\n",
        "\n",
        "trs = training_sample_size=879\n",
        "tes = test_sample_size=500\n",
        "\n",
        "dataset = io.loadmat('./drive/MyDrive/uni project/data_2c_s_d.mat')\n",
        "\n",
        "x_train_original = dataset['data'][:trs]\n",
        "x_train_original = x_train_original[:,0][:]\n",
        "\n",
        "x_test_original  = dataset['data'][trs:trs+tes]\n",
        "x_test_original  = x_test_original[:,0][:]\n",
        "\n",
        "y_train_original = dataset['label'][:trs]\n",
        "y_test_original  = dataset['label'][trs:trs+tes]"
      ],
      "metadata": {
        "id": "qIekqYpW55dE"
      },
      "execution_count": 37,
      "outputs": []
    },
    {
      "cell_type": "code",
      "source": [
        "x_train = np.array(x_train_original)\n",
        "x_test = np.array(x_test_original)\n",
        "\n",
        "#x_train = x_train.astype(np.float32)\n",
        "#x_test  = x_test.astype('float32')\n",
        "#x_train /= 255\n",
        "#x_test /= 255\n",
        "\n",
        "y_train = keras.utils.to_categorical(y_train_original, num_classes=2)\n",
        "y_test = keras.utils.to_categorical(y_test_original, num_classes=2)\n",
        "\n",
        "\n",
        "x_val = x_test[:250]\n",
        "x_test = x_test[250:]\n",
        "y_val = y_test[:250]\n",
        "y_test = y_test[250:]\n",
        "\n"
      ],
      "metadata": {
        "id": "mdapBff3PzYM"
      },
      "execution_count": 38,
      "outputs": []
    },
    {
      "cell_type": "code",
      "source": [
        "x_train.dtype.name\n",
        "format(np.shape(x_train)"
      ],
      "metadata": {
        "id": "a2D2Ythy7K-P"
      },
      "execution_count": null,
      "outputs": []
    },
    {
      "cell_type": "code",
      "source": [
        "model = Sequential()\n",
        "model.add(layers.Conv2D(32, (1, 1), activation='relu', input_shape=(5120, 4, 1)))\n",
        "model.add(layers.MaxPooling2D((2, 2)))\n",
        "model.add(layers.Conv2D(64, (1, 1), activation='relu'))\n",
        "model.add(layers.MaxPooling2D((2, 2)))\n",
        "model.add(layers.Conv2D(64, (1, 1), activation='relu'))\n",
        "model.add(layers.Flatten())\n",
        "model.add(layers.Dense(64, activation='relu'))\n",
        "model.add(Dropout(0.5))\n",
        "model.add(layers.Dense(2, activation='softmax'))"
      ],
      "metadata": {
        "id": "udwjqU4qR1XJ"
      },
      "execution_count": 44,
      "outputs": []
    },
    {
      "cell_type": "code",
      "source": [
        "model.summary()"
      ],
      "metadata": {
        "id": "2-cNZStZaFXO"
      },
      "execution_count": null,
      "outputs": []
    },
    {
      "cell_type": "code",
      "source": [
        "model.compile(loss='categorical_crossentropy',\n",
        "              optimizer='adam',\n",
        "              metrics=['accuracy'])"
      ],
      "metadata": {
        "id": "e--rf5zCXRMs"
      },
      "execution_count": 40,
      "outputs": []
    },
    {
      "cell_type": "code",
      "source": [
        "history = model.fit(x_train, y_train,\n",
        "          epochs=50, batch_size=100, validation_data = (x_val, y_val))"
      ],
      "metadata": {
        "id": "y7vHTcjaXXO2"
      },
      "execution_count": null,
      "outputs": []
    },
    {
      "cell_type": "code",
      "source": [
        "%matplotlib inline\n",
        "acc = history.history['accuracy']\n",
        "val_acc = history.history['val_accuracy']\n",
        "loss = history.history['loss']\n",
        "val_loss = history.history['val_loss']\n",
        "\n",
        "epochs = range(len(acc))\n",
        "\n",
        "plt.plot(epochs, acc, 'bo', label='Training acc')\n",
        "plt.plot(epochs, val_acc, 'b', label='Validation acc')\n",
        "plt.title('Training and validation accuracy')\n",
        "plt.legend()\n",
        "\n",
        "plt.figure()\n",
        "\n",
        "plt.plot(epochs, loss, 'bo', label='Training loss')\n",
        "plt.plot(epochs, val_loss, 'b', label='Validation loss')\n",
        "plt.title('Training and validation loss')\n",
        "plt.legend()\n",
        "\n",
        "plt.show()"
      ],
      "metadata": {
        "id": "bu-sX3o2X0on"
      },
      "execution_count": null,
      "outputs": []
    }
  ]
}